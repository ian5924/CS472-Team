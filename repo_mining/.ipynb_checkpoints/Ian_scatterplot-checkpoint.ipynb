{
 "cells": [
  {
   "cell_type": "code",
   "execution_count": 3,
   "id": "9d9d1bb8",
   "metadata": {},
   "outputs": [],
   "source": [
    "import pandas as pd\n",
    "import json\n",
    "import requests\n",
    "import csv\n",
    "from datetime import datetime\n",
    "import os\n",
    "import matplotlib.pyplot as plt"
   ]
  },
  {
   "cell_type": "code",
   "execution_count": 4,
   "id": "22e40b01",
   "metadata": {},
   "outputs": [],
   "source": [
    "df = pd.read_csv('test.csv')"
   ]
  },
  {
   "cell_type": "code",
   "execution_count": 5,
   "id": "9d42e7c9",
   "metadata": {},
   "outputs": [],
   "source": [
    "dates = df['dates']\n",
    "files = df['fileNames']"
   ]
  },
  {
   "cell_type": "code",
   "execution_count": 24,
   "id": "a63ae5a1",
   "metadata": {},
   "outputs": [
    {
     "name": "stdout",
     "output_type": "stream",
     "text": [
      "309.2857142857143\n",
      "0      rootbeerlib/src/main/java/com/scottyab/rootbee...\n",
      "1      app/src/main/java/com/scottyab/rootbeer/sample...\n",
      "2      app/src/main/java/com/scottyab/rootbeer/sample...\n",
      "3      app/src/main/java/com/scottyab/rootbeer/sample...\n",
      "4      rootbeerlib/src/main/java/com/scottyab/rootbee...\n",
      "                             ...                        \n",
      "172    app/src/main/java/com/scottyab/rootchecker/Roo...\n",
      "173    app/src/androidTest/java/com/scottyab/rootchec...\n",
      "174    app/src/main/java/com/scottyab/rootchecker/Mai...\n",
      "175    app/src/main/java/com/scottyab/rootchecker/Roo...\n",
      "176    app/src/main/java/com/scottyab/rootchecker/uti...\n",
      "Name: fileNames, Length: 177, dtype: object\n"
     ]
    }
   ],
   "source": [
    "#print (df)\n",
    "dates = df['dates']\n",
    "files = df['fileNames']\n",
    "authors = df['authorNames']\n",
    "minDate = min(dates)\n",
    "maxDate = max(dates)\n",
    "#print(type(minDate))\n",
    "#print(type(maxDate))\n",
    "\n",
    "#print(minDate)\n",
    "#print(maxDate)\n",
    "\n",
    "dateFormat =  \"%Y-%m-%dT%H:%M:%S%z\"\n",
    "#minDate = datetime.fromisoformat(minDate)\n",
    "#maxDate = datetime.fromisoformat(maxDate)\n",
    "minDate = datetime.strptime(minDate,dateFormat)\n",
    "maxDate = datetime.strptime(maxDate,dateFormat)\n",
    "\n",
    "#print(type(minDate))\n",
    "#print(type(maxDate))\n",
    "#print(minDate)\n",
    "#print(maxDate)\n",
    "\n",
    "\n",
    "\n",
    "days = maxDate-minDate\n",
    "weeksInTotal = days.days / 7\n",
    "print(weeksInTotal)\n",
    "print(files)\n"
   ]
  },
  {
   "cell_type": "code",
   "execution_count": 27,
   "id": "6dadf0c1",
   "metadata": {},
   "outputs": [
    {
     "data": {
      "text/plain": [
       "<matplotlib.collections.PathCollection at 0x24d16f92610>"
      ]
     },
     "execution_count": 27,
     "metadata": {},
     "output_type": "execute_result"
    },
    {
     "data": {
      "image/png": "[encoded data removed]",
      "text/plain": [
       "<Figure size 640x480 with 1 Axes>"
      ]
     },
     "metadata": {},
     "output_type": "display_data"
    }
   ],
   "source": [
    "plt.scatter(len(files), weeksInTotal, s=400, c=len(files))"
   ]
  },
  {
   "cell_type": "code",
   "execution_count": null,
   "id": "db5443b5",
   "metadata": {},
   "outputs": [],
   "source": []
  }
 ],
 "metadata": {
  "kernelspec": {
   "display_name": "Python 3 (ipykernel)",
   "language": "python",
   "name": "python3"
  },
  "language_info": {
   "codemirror_mode": {
    "name": "ipython",
    "version": 3
   },
   "file_extension": ".py",
   "mimetype": "text/x-python",
   "name": "python",
   "nbconvert_exporter": "python",
   "pygments_lexer": "ipython3",
   "version": "3.9.13"
  }
 },
 "nbformat": 4,
 "nbformat_minor": 5
}
